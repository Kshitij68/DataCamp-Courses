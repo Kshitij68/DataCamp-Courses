{
 "cells": [
  {
   "cell_type": "markdown",
   "metadata": {},
   "source": [
    "# Introduction to Python for Data Science"
   ]
  },
  {
   "cell_type": "code",
   "execution_count": null,
   "metadata": {
    "collapsed": true
   },
   "outputs": [],
   "source": [
    "#Assigning a variable\n",
    "a = 1\n",
    "#Printing\n",
    "print(a)\n",
    "#To get what data type the object is. Python data type can be float, int, str, bool\n",
    "type(a)\n",
    "#Bolean operator\n",
    "a = True\n",
    "#This results in abcd\n",
    "c = 'ab'+'cd'\n",
    "a = [1,\"wwd\"] #This creates a list with different element being different types\n",
    "#Making list of lists. Here type(a) will return list\n",
    "#NOTE: Python has a zero based indexing\n",
    "a = [[\"a\",1],[\"b\",2],[\"c\",3],[\"d\",4]]\n",
    "a = range(1000) #Makes an array with integers from 0 to 999\n",
    "import sys\n",
    "print(sys.getsizeof(5)*len(a)) #Prints the memory size of a\n",
    "a = [1,2,3,4,5]\n",
    "b = [1,2,3,4,5]\n",
    "print(a+b) #Prints [1,2,3,4,5,1,2,3,4,5]\n",
    "print(a[0]) #Returns 1\n",
    "print(a[-1]) #Returns 5\n",
    "print(a[0:2]) #Returns [1,2]\n",
    "print(a[:3]) #Python starts from index zero\n",
    "print(a[2:]) #Python ends at the last index\n",
    "a[0:2] = [\"e\",\"r\"] #Changes the first and second element\n",
    "a = a + [2,4,6] #Adds the element to list (At the end)\n",
    "del(a[2]) #The third element is removed from the list\n",
    "\n",
    "x = [\"a\",\"b\",\"c\",]\n",
    "y = x\n",
    "y[1] = \"z\"\n",
    "print(y)\n",
    "print(x) #The value of 2nd element also changes. This is because list stores the address of variable and \n",
    "         #not the variable itself\n",
    "    #To copy a list just do list_copy = copy[:]\n",
    "    \n",
    "a = [1,2,3,4]\n",
    "print(max(a)) #Returns maximum of the functions\n",
    "print(round(a[0],1)) #Rounds the function to given number of decimal places\n",
    "                     #If you do not mention then it rounds nearest to zero decimal places\n",
    "print(len(a)) #Prints the length of the list\n",
    "\n",
    "sorted(A,reverse = True) #To sort the list \"A\" in descending order\n",
    "a = ['a',1,'b',2,'c',3,3]\n",
    "print(a.index('b')) #Returns index corrosponding to 'b' i.e. 2\n",
    "print(a.count(3)) #Returns number of times 3 is repeated\n",
    "a = 'yolo'\n",
    "a = a.capitalize() #The first letter is capitalize in the string a\n",
    "a = a.replace(\"lo\",\"nolo\") #lo string is replaced with nolo. Available for strings only\n",
    "a.append(\"me\") #Add an element in the list. The element is added at the end\n",
    "a.reverse() #Reverses the elements of the list\n",
    "import numpy as np #Imports numpy and name it as np\n",
    "a = np.array([12,2,34])\n",
    "from numpy import array #Imports array function from numpy\n",
    "a = array([12,33,4])\n",
    "\n",
    "height = [24,412,5,45,234]\n",
    "weight = [213,4,32,345,34]\n",
    "np_height = np.array(height) #Imports all the variable to a numpy array\n",
    "np_weight = np.array(weight) #Imports all the variable to a numpy array\n",
    "print(np_weight/np_height) #Prints the array with division being done element wise\n",
    "print(np_weight + np_height) #Prints the array with addition being done element wise\n",
    "a = np.array([1,\"abcd\",True]) #Ends up changing all the elements to string. numpy array takes only one type of data\n",
    "print(np_weight>23) #Prints the array with each element being boolean type\n",
    "print(np_weight[np_weight>23]) #Prints value (array format) in np_weight when value is greater than 23\n",
    "\n",
    "a = np.array([[1,2,3,4,5],[4,7,3,7,3]]) #Creates a 2-D Array\n",
    "print(a.shape) #Prints the shape of the matrix (2,5) i.e. 2 rows and 5 coloums\n",
    "print(a[0][2]) #Prints 0th row 2nd element\n",
    "print(a[0,2]) #Prints 0th row 2nd element\n",
    "print(a[:,1:3]) #Selects both the rows and then prints element in 1 and 2 coloum\n",
    "print(a[1,:]) #Selects 1st row and prints it completely\n",
    "\n",
    "print(np.mean(np_height)) #Prints the mean of np_height dataset\n",
    "print(np.median(np_height)) #Prints the mean of np_height dataset\n",
    "\n",
    "#Packages might have sub-packages too\n",
    "\n",
    "from numpy import * #This calls all the functions\n",
    "height = [24,412,5,45,234]\n",
    "h = np.array(height) #Imports all the variable to a numpy array\n",
    "h = h[h>24]\n",
    "print(h)\n",
    "#NUMPY\n",
    "#Adds support for Multi Dimensional Array\n",
    "#Mathematical Functions\n",
    "\n",
    "import numpy as np\n",
    "a = np.array([1,2,3]) #1D Array\n",
    "a = np.array([[1,2],[1,5]]) #2D Array\n",
    "a = np.arange(1000) #Creates a 1D Array from 0 to 999\n",
    "print(a.ndim) #Prints the dimensions of the array\n",
    "print(a.itemsize) #Size of each element in the array\n",
    "print(a.dtype) #Prints the data type of the array\n",
    "print(a.shape) #Prints the shape of the array\n",
    "a = a.reshape(4,2) #Changes the number of rows and coloums in the array\n",
    "print(a.max()) #Prints the max element\n",
    "print(a.min()) #Prints the min element\n",
    "print(a.sum()) #Prints the sum of elements\n",
    "\n",
    "#PANDAS\n",
    "#Handles data suited for data analysis"
   ]
  },
  {
   "cell_type": "markdown",
   "metadata": {},
   "source": [
    "# Intermediate Python for Data Science"
   ]
  },
  {
   "cell_type": "code",
   "execution_count": 7,
   "metadata": {},
   "outputs": [
    {
     "data": {
      "image/png": "[encoded data removed]",
      "text/plain": [
       "<matplotlib.figure.Figure at 0x8dbbc18>"
      ]
     },
     "metadata": {},
     "output_type": "display_data"
    },
    {
     "data": {
      "image/png": "[encoded data removed]",
      "text/plain": [
       "<matplotlib.figure.Figure at 0x8e18358>"
      ]
     },
     "metadata": {},
     "output_type": "display_data"
    }
   ],
   "source": [
    "import matplotlib.pyplot as plt\n",
    "year = [1950,1960,1980,1990]\n",
    "pop = [2,3,4,5]\n",
    "\n",
    "plt.plot(year,pop) #(x,y)\n",
    "plt.show() #Show the plot\n",
    "\n",
    "plt.scatter(year,pop)\n",
    "plt.show()\n",
    "\n",
    "\n",
    "plt.xscale('log') #To make the x axis scale as logarithmic\n",
    "plt.xlabel(\"Year\")\n",
    "plt.ylabel(\"Population\")\n",
    "plt.title(\"World Population Projections\")\n",
    "plt.xticks([0,1,2],[\"OB\",\"1B\",\"2B\"])\n",
    "plt.yticks([123,123,134,14,5,])\n",
    "\n",
    "plt.hist(values,bins = 10)\n",
    "\n",
    "plt.clf() #Clears the plots\n",
    "\n",
    "\n",
    "plt.scatter(x = gdp_cap, y = life_exp, s = np.array(pop) * 2, c = col,alpha = 0.8) \n",
    "#Here s is for giving the size of the bubble based on np_pop value \n",
    "#Here c is for giving the colors from color matrix\n",
    "#Here alpha is to change the opacity of the matrix\n",
    "plt.text(1550, 71, 'India') #To write something in front of a particular bubble\n",
    "plt.grid(True) #To activate gridlines in yout plot"
   ]
  },
  {
   "cell_type": "code",
   "execution_count": null,
   "metadata": {
    "collapsed": true
   },
   "outputs": [],
   "source": [
    "world = {\"a\":1,\"b\":2,\"c\":3} #Creates a dictionary\n",
    "world['a'] #Prints 1\n",
    "print(world.keys()) # Prints dict_keys(['a', 'b', 'c', 'd'])\n",
    "world = {\"a\":1,\"b\":2,\"c\":3, \"a\":4} #Overwrites a =1\n",
    "for key,value in world.items(): print(key); print(value)\n",
    "world[\"sea\"] = 24 #Adds an element in the dictonary at the end\n",
    "del world[\"sea\"] #Deletes the key and its value\n",
    "europe = { 'spain': { 'c':'m', 'popu':46.77 },'france': { 'al':'pas', 'pot':66.03 },}\n"
   ]
  },
  {
   "cell_type": "code",
   "execution_count": null,
   "metadata": {
    "collapsed": true
   },
   "outputs": [],
   "source": [
    "#Numpy elements can house array with only one data type\n",
    "#Pandas can take elements of all types and combine them\n",
    "#Each row and coloum have a unique labels\n",
    "import pandas as pd\n",
    "pd.read_csv(\"ADDRESS\",index_col = 0) #To tell the first coloum contains the indexes for rows\n",
    "cars = pd.DataFrame(my_dict) #Stores the list/dictonary as pandas dataframe\n",
    "cars.index = row_labels #To specify the row indexes of dataframe from list row_labels\n",
    "print(brics[\"country\"]) #Returns the elements of the coloum coutnry\n",
    "print(brics[[\"country\"]]) #Returns the elements of the coloumn country in a dataframe format\n",
    "#THis is actually a list in a dataframe\n",
    "print(type(brics[\"country\"])) #Returns the type which is pandas.core.series.Series\n",
    "print(type(brics[[\"country\"]])) #Returns in a dataframe format\n",
    "brics[1:4] #Index starts with zero\n",
    "brics.loc[\"US\"] #loc is to select based on labels. Returns the row with index US\n",
    "brics.locs[[\"RU\",\"IN\",\"CH\"],[\"country\",\"capital\"]] #Returns row index as RU IN CH and coloum index as country and capital\n",
    "brics.iloc[1] #iloc is to select based on positions. Returns the 2nd row (starts with zero)"
   ]
  },
  {
   "cell_type": "code",
   "execution_count": null,
   "metadata": {
    "collapsed": true
   },
   "outputs": [],
   "source": [
    "x = 1\n",
    "y = 3\n",
    "print(x>1 and y > 3)\n",
    "#And Or Not operators work in variables but not in arrays, lists, tuples, dataframes etc\n",
    "#To use comparision operators with numpy use the following:\n",
    "\n",
    "is_huge = brics[\"area\"] > 30 #Subsets the data frame and prints the same with values True or False\n",
    "print(brics[is_huge])"
   ]
  },
  {
   "cell_type": "code",
   "execution_count": 4,
   "metadata": {
    "collapsed": true
   },
   "outputs": [],
   "source": [
    "import numpy as np\n",
    "np.logical_and()\n",
    "np.logical_or()\n",
    "np.logical_not()"
   ]
  },
  {
   "cell_type": "code",
   "execution_count": null,
   "metadata": {
    "collapsed": true
   },
   "outputs": [],
   "source": [
    "fam = [1,2,3,4,5]\n",
    "for h in fam: print(h) #prints each element\n",
    "for index,height in enumerate(fam):\n",
    "    print(\"index \" + str(index) + \": \"+ str(height)) #First one gets the index value and second one gets the element value"
   ]
  },
  {
   "cell_type": "code",
   "execution_count": null,
   "metadata": {
    "collapsed": true
   },
   "outputs": [],
   "source": [
    "fam = [10,20,30,40,50]\n",
    "for height,index in enumerate(fam):\n",
    "    print(index)\n",
    "    print(height)\n",
    "    \n",
    "for i in np.nditer(arr): #Iterates over the array\n",
    "\n",
    "#brics is a pandas dataframe\n",
    "for i in brics: print(i) #This will print the coloumn names only\n",
    "for lab,row in brics.iterrow():#lab: Row lablel #Row: Row element\n",
    "    print(lab) #Prints out the label once and does not print rest of them until all elements are printed\n",
    "    print(row) #Prints out all the elements of that particular label\n",
    "for lab,row in brics.iterrow():\n",
    "    print(lab + row[\"capital\"]) #only prints the label and the capital\n",
    "    brics.loc[lab,\"name_length\"] = len(row[\"country\"]) #Makes a new coloumn in dataframe with lenght of the string in country\n",
    "#The method in above line is very inefficient though and takes a lot of computation power\n",
    "brics[\"name_length\"] = brics[\"country\"].apply(len) #Applies the length function rows in country and prints in newcoloumn\n",
    "np.random.rand() #Returns a number between 0 and 1 (Uniform Distribution)\n",
    "np.random.seed(123) #Set the seed t ensure reproducibility\n",
    "coin = np.random.randint(0,2) #Generates a integer random number between 0 and 2 (not including 2)(including 0)\n"
   ]
  },
  {
   "cell_type": "markdown",
   "metadata": {
    "collapsed": true
   },
   "source": [
    "# Python Data Science Toolbox (Part I)"
   ]
  },
  {
   "cell_type": "code",
   "execution_count": null,
   "metadata": {
    "collapsed": true
   },
   "outputs": [],
   "source": [
    "def square(): #THis is called a function header\n",
    "    \"\"\" Returns the square of a value\"\"\" #Docstrings are very important\n",
    "    \n",
    "a = (2,3,4) #Cretes a tuple. Their values cannot be changed\n",
    "print(a[1]) #Returns 3\n",
    "\n",
    "#Scope in Functions\n",
    "#Name that is in the local scope means it is defined in the fucntion only\n",
    "#name that is in the global scope means it is defined in the global environment\n",
    "#built in scope Functions that are predefined\n",
    "\n",
    "def outer():\n",
    "    n = 1\n",
    "    def inner():\n",
    "        nonlocal n #non local to ensure its partially global\n",
    "        n = 2\n",
    "        print(n)\n",
    "    inner()\n",
    "    print(n)\n",
    "#Scopes Searched:\n",
    "#L: Local Scope\n",
    "#E: Enclosing functions\n",
    "#G: Global \n",
    "#B: Built-in\n",
    "\n",
    "def echo(n):\n",
    "    # Define inner_echo\n",
    "    def inner_echo(word1):\n",
    "        echo_word = word1 * n\n",
    "        return echo_word\n",
    "    return inner_echo #NO need of having paranthesis\n",
    "\n",
    "def echo(word1, echo = 1): #echo = 1 ensures that echo is defined irrespective of whether the value is given or not\n",
    "echo(\"yolo\",2) #this overwrites the value of echo and makes it 2\n",
    "\n",
    "def gibberish(*args): # *args defines a flexible quantity variable. It creates a tuple of all the input\n",
    "result2 = gibberish(\"lang\", \"source\") # This is how you run the function \n",
    "def report_status(**kwargs): #**kwards defines a flexible dictionary. It creates a dictionary of all the input\n",
    "report_status(name=\"luke\",affiliation=\"jedi\",status=\"missing\") #Method to call a dictionary \n",
    "\n",
    "nums = [4,6,9,10,13]\n",
    "square = map(lambda num: num**2,nums) #Using lambda we can define a function faster\n",
    "print(square) #Shows that it is a map type object\n",
    "print(list(square)) #Prints as a list\n",
    "\n",
    "fellowship = ['frodo', 'samwise', 'merry', 'aragorn', 'legolas', 'boromir', 'gimli']\n",
    "result = filter(lambda member: len(member) > 6, fellowship)\n",
    "print(list(result))\n",
    "\n",
    "raise ValueError('echo must be greater than 0') #To raise a value error"
   ]
  },
  {
   "cell_type": "markdown",
   "metadata": {
    "collapsed": true
   },
   "source": [
    "# Python Data Science Toolbox (Part II)"
   ]
  },
  {
   "cell_type": "code",
   "execution_count": null,
   "metadata": {
    "collapsed": true
   },
   "outputs": [],
   "source": [
    "word = \"Da\"\n",
    "it = iter(word)\n",
    "next(it) #prints 'D'\n",
    "next(it) #Prints 'A'\n",
    "next(it) #Throws a Stopiteration error\n",
    "word = \"Da\"\n",
    "it = iter(word)\n",
    "print(*it)\n",
    "\n",
    "file = open('file.text')\n",
    "it = iter(file)\n",
    "print(next(it)) #Prints the first line\n",
    "\n",
    "values = range(10,21) #Creates a function that has the range(10,21) (Not including 21)\n",
    "print(type(values)) #Returns range function\n",
    "print(values) #range(10,21)\n",
    "enu\n",
    "\n",
    "va = enumerate(['yolo','toto','popo']) \n",
    "print(type(va)) #prints enumertes type\n",
    "print(list(va)) #Prints as a list\n",
    "\n",
    "z = zip(values,va) #Iterator of zip objects to make a tuple\n",
    "print(type(z)) #Returns zip file\n",
    "print(list(z)) #Returns a tuple in a list\n",
    "\n",
    "for chunk in pd.read_csv('yolo.csv', chunksize = 1000): #Loads 1000 datarows at a time\n",
    "    total += chunk['s'] #The chunk is loaded as a generator\n",
    "\n",
    "squares = [i**2 for i in range(10)]\n",
    "matrix = [[col for col in range(5)] for row in range(5)] #Creates 5 rows each from 0 to 4\n",
    "[num**2 for num in range(10) if num%2==0]\n",
    "[num**2 if num%2==0 else 0 for num in range(10)]\n",
    "pos_neg = {num: -num for num in range(10)} #Here key is neg and value is -num\n",
    "\n",
    "#Generator does not contain the numbers in the memory\n",
    "result = (num for num in range(10))\n",
    "print(next(result)) #Yes! It work like a list\n",
    "print(list(result))\n",
    "\n",
    "def num_seq(n):\n",
    "    i = 0\n",
    "    while i <n:\n",
    "        yield i\n",
    "        i+=1\n",
    "        \n",
    "data = file_object.readline() #Reads a line of text file. Printing it again and again prints line by line\n"
   ]
  },
  {
   "cell_type": "markdown",
   "metadata": {
    "collapsed": true
   },
   "source": [
    "# Importing Data in Python (Part 1)"
   ]
  },
  {
   "cell_type": "code",
   "execution_count": null,
   "metadata": {
    "collapsed": true
   },
   "outputs": [],
   "source": [
    "#Flat file - Txt, CSV\n",
    "#plain text files - marktwain files\n",
    "file = open(\"yolo.txt\", mode = 'r') #r is to read the text file\n",
    "text = file.read()\n",
    "file.close() #Close the connection to the file\n",
    "#The file is now successfully copied\n",
    "print(text)\n",
    "print(file.closed) #To check wheter the file is closed\n",
    "with open(\"yolo.txt\", mode = 'r') as file: #with is called a context manager\n",
    "    print(file.read())\n",
    "data = np.loadtxt(filename, delimiter = ',', skiprows = 1, usecols = [0,2], dtype  = str) #When the file is csv type.\n",
    "#Delimiter: Seperated by comma, skiprows skips the first row, usecols ensures only first and third coloumn are taken\n",
    "d = np.recfromcsv(file) #To import csv file\n",
    "\n",
    "data_array = df.values #Converts the dataframe into numpy array\n",
    "data = pd.read_csv(file,nrows = 5, header = None) #header = None means no header in the file\n",
    "data = pd.read_csv(file, sep='\\t', comment='#', na_values=['Nothing']) #na_values gives 'Nothing'\n",
    "#Pickled File: File type specific to python\n",
    "import pickle\n",
    "with open('pickle.pkl','rb') as file: #rb is an arguement in open\n",
    "    data = pickle.load(file)\n",
    "data = pd.ExcelFile('file.xlsx')\n",
    "print(data.sheet_names) #Prints the list sheets in the excel file\n",
    "df1 = data.parse('sheetname') #Load according to sheet name\n",
    "df1 = data.parse(0) #Load according to index\n",
    "df2 = xl.parse(1, parse_cols=[0], skiprows=[0], names=['Country']) #What the fuck!!\n",
    "\n",
    "from sas7bdat import SAS7BDAT\n",
    "with SAS7BDAT('urbanpop.sas7bdat') as file: #To read SAS file\n",
    "    df_sas= file.to_data_frame()\n",
    "data = pd.read_stata(\"urbanpop.dta\") #To read stata files\n",
    "#HDF5 : Hierachical Data Format Files\n",
    "import h5py\n",
    "data = h5py.File('filename','r')\n",
    "print(type(data)) #prints hdf5 file\n",
    "for key in data.keys():\n",
    "    print(key)\n",
    "\n",
    "import scipy.io\n",
    "filename = 'work.mat'\n",
    "mat = filename.io.loadmat(filename)\n",
    "print(type(mat)) #Dictionary type\n",
    "print(np.shape(mat['CYratioCyt'])) #Prints the shape of dictionary\n",
    "\n",
    "from sqlalchemy import create_engine\n",
    "engine = create_engine('sqlite:///Northwind.sqlite') #Links to the SQL server\n",
    "table_names = engine.table_names() #Prints the table names\n",
    "\n",
    "# To select a table from SQL: SELECT * FROM Table_Name \n",
    "from sqlalchemy import create_engine\n",
    "import pandas as pd\n",
    "engine = create_engine('sqlite:///Northwind.sqlite') #Links to the SQL server\n",
    "con = engine.connect()\n",
    "rs = con.execute('SELET * FROM Orders')\n",
    "df = pd.DataFrame(rs.fetchall()) #FETCH ALL IN THE PANDAS DATAFRAME\n",
    "df.columns = rs.keys() #To select all the coloumns in the sql database (coloumn names are not choosen by default)\n",
    "con.close() #To close the connection\n",
    "\n",
    "#To save you the trouble of closing the connection, use this method\n",
    "from sqlalchemy import create_engine\n",
    "import pandas as pd\n",
    "engine = create_engine('sqlite:///Northwind.sqlite') #Links to the SQL server\n",
    "with engine.connect() as con: \n",
    "    rs = con.execute('SELET * FROM Orders')\n",
    "    df = pd.DataFrame(rs.fetchmany(size = 5)) #Fetches only 5 rows instead of all the rows\n",
    "    df.columns = rs.keys() #To select all the coloumns in the sql database (coloumn names are not choosen by default)\n",
    "\n",
    "df = pd.read_sql_query(\"SELECT * FROM ORDERS\",engine)    "
   ]
  },
  {
   "cell_type": "markdown",
   "metadata": {
    "collapsed": true
   },
   "source": [
    "# Importing Data in Python (Part 2)"
   ]
  },
  {
   "cell_type": "code",
   "execution_count": null,
   "metadata": {
    "collapsed": true
   },
   "outputs": [],
   "source": [
    "from urllib.request import urlretrieve\n",
    "url = \"https://nrogg.com\"\n",
    "urlretrieve(url,'file.csv')\n",
    "\n",
    "from urllib.request import urlopen, Request\n",
    "url = \"https://www.wikipedia.org\"\n",
    "request = Request(url)\n",
    "response = urlopen(request)\n",
    "html = response.read() #To read the response and store in a file\n",
    "response.close() #To close the link\n",
    "\n",
    "#Shortcut for above steps is to use the requests package\n",
    "import requests\n",
    "url = \"https://www.wikipedia.org\"\n",
    "r = requests.get(url) #To activate the request\n",
    "text = r.text #To convert html file into text file\n",
    "\n",
    "from bs4 import BeautifulSoup\n",
    "import requests\n",
    "url = \"https://www.wikipedia.org\"\n",
    "r = requests.get(url)\n",
    "html_doc = r.text\n",
    "soup = BeautifulSoup(html_doc)\n",
    "print(soup.prettify()) #Prints well indendeted HTML files\n",
    "print(soup.title()) #Prints the title of the HTML file\n",
    "print(soup.get_text()) #Extracts the text from the HTML file\n",
    "for link in soup.find_all('a'):\n",
    "    print(link.get('href')) #To print all the hyperlinks in the html file\n",
    "with open(\"a_movie.json\") as json_file:\n",
    "    json_data = json.load(json_file) #imports as a list\n",
    "\n",
    "r = requests.get(url)\n",
    "json_data = r.json()\n",
    "for key, value in json_data.items():\n",
    "    print(key + ' ', value)\n",
    "#An API is a bunch of codes that allows two software programs to interact with each other\n"
   ]
  },
  {
   "cell_type": "markdown",
   "metadata": {
    "collapsed": true
   },
   "source": [
    "# Cleaning Data in Python"
   ]
  },
  {
   "cell_type": "code",
   "execution_count": null,
   "metadata": {
    "collapsed": true
   },
   "outputs": [],
   "source": [
    "import pandas as pd\n",
    "df = pd.read_csv(\"file.csv\")\n",
    "print(df.head())\n",
    "print(df.tail())\n",
    "print(df.columns()) #Column is an attribute. Hence you do not need to follow with paranthesis\n",
    "print(df.shape) #Shape is an attribute. Hence you do not need to follow with paranthesis\n",
    "print(df.info())\n",
    "print(df['continent'].value_counts(dropna = False))#Find value count of continent, dropna: to include missing value or not\n",
    "print(df.describe())\n",
    "\n",
    "#Bar plots to count discrete data\n",
    "#Histograms to count continious data\n",
    "import matplotlib.pyplot as plt\n",
    "df.population.plot('hist')\n",
    "plt.show()\n",
    "df.boxplot(column='population',by='continent') #Boxplot grouped by continent\n",
    "plt.show()\n",
    "df.plot(kind='scatter', x='initial_cost', y='total_est_fee', rot=70)\n",
    "pd.melt(frame=df,id_vars='name',value_vars=['treatment a','treatment b']) \n",
    "#id_vars: Columns which should be fixed\n",
    "#value_vars: Columns which should be combined\n",
    "#frame: Columns which should be made as a dataframe\n",
    "#var_name: header of new column (concated one)\n",
    "#value_name: value of the header of the new column (concated one)\n",
    "\n",
    "#Tidying: Turn columns to rows\n",
    "#Pivoting: Turn rows to coloumns\n",
    "\n",
    "weather = weather.pivot(index='date',columns='element',values='value') #Duplicate entries lead to erors\n",
    "weather = weather.pivot_table(index='date',columns='element',values='value',aggfunc=np.mean) #Duplicate entries are averaged\n",
    "conc = pd.concat([data_1,data_2], ignore_index=True, axis - 0) \n",
    "#Concates two or more files #Indexes are not reset by default #Axes to select row/column\n",
    "import glob\n",
    "csv_files = glob.glob('*.csv') #Takes all the csv files in the current address\n",
    "print(type(csv_files)) #List of csv files\n",
    "listt = []\n",
    "for file in csv_file:\n",
    "    data=pd.read_csv(file)\n",
    "    data.append(data)\n",
    "pd.concat(listt) #concates all the elements in the list\n",
    "pd.merge(left = state_populations, right = state_codes, on=None,left_on='state',right_on='name')\n",
    "#left and right are the name of dataframes\n",
    "#left_on  and right_n are to tell that merging should happend on what basis\n",
    "#Different types of merge: \n",
    "    #One-to-one\n",
    "    #Many-to-one\n",
    "    #Many-to-one\n",
    "df['treatment b'] = df['treatment b'].astype(str) #Changes column to string type\n",
    "df['sex'] = df['sex'].astype('category') #Changes column to category type\n",
    "print(df.dtypes) #Prints object datatypes\n",
    "#How to convert strings to numeric when value is character or anamoly?\n",
    "df['treatment a'] = pd.to_numeric(df['treatment a'],errors = 'coerce') #errors = 'coerce' makes all invalid values to NaN\n",
    "# 17       \\d*\n",
    "# $17      \\$\\d*\n",
    "# $17.00   \\$\\d*\\.\\d*\n",
    "# $17.89   \\$\\d*\\.\\d{2}\n",
    "# $17.895  ^\\$\\d*\\.\\d{2}$\n",
    "\n",
    "import re\n",
    "pattern = re.compile('\\$\\d*\\.\\d{2}')\n",
    "result = pattern.match('$17.89')\n",
    "print(bool(result))\n",
    "#Finds pattern and prints 10 and 1\n",
    "#Prints + to print \n",
    "print(re.findall('\\d+', 'the recipe calls for 10 strawberries and 1 banana')) \n",
    "bool(re.match(pattern='[A-Z]\\w*', string='Australia'))\n",
    "from numpy import Nan\n",
    "pattern = re.compile('\\$\\d*\\.\\d{2}')\n",
    "df_subset['diff'] = df_subset.apply(dif_money,axis=1,pattern=pattern)\n",
    "df = df.drop_duplicates() #Drops exact matches\n",
    "print(tips_nan.info()) #Gives information on missing value\n",
    "tips_nan['sex'] = tips_nan['sex'].fillna('missing') #Fills the missing value with 'missing'\n",
    "tips_nan[['total_bill','size']] = tips_nan[['total_bill','size']].fillna(0) #Fills the missing value with 0\n",
    "assert 1==1 #Returns nothing as it is true\n",
    "df['number'] = df['number'].to_numeric()\n",
    "df['name'] = df['name'].astype(str)\n",
    "gapminder_melt.columns = ['country','year','life_expectancy'] #Rename the columns\n",
    "assert pd.notnull(gapminder.year).all() #all() function ensures "
   ]
  },
  {
   "cell_type": "markdown",
   "metadata": {},
   "source": [
    "# Pandas Foundations"
   ]
  },
  {
   "cell_type": "code",
   "execution_count": null,
   "metadata": {
    "collapsed": true
   },
   "outputs": [],
   "source": [
    "#Pandas has coloumn and row names\n",
    "import pandas as pd\n",
    "print(type(AA)) #prints Pandas.core.frame.Dataframe\n",
    "print(AA.shape) #Prints the shape of the dataframe\n",
    "print(AA.columns) #Prints the columns of the dataframe\n",
    "print(AA.iloc[:4,:]) \n",
    "print(AA.head()) #Prints first 5 rows\n",
    "print(AA.head(0)) #Prints coloumn indexes\n",
    "print(AA.head(2)) #Prints first two rows\n",
    "print(AA.tail()) #Prints last 5 rows\n",
    "print(AA.info())\n",
    "AA.iloc[::3,-1] = np.nan #Converts every 3rd row in last column into NaN type \n",
    "low = AA['Date'].values\n",
    "df_log10 = np.log10(np_vals) #Converts all into log10\n",
    "da = DataFrame(data) #data: Dictionary format. This makes the keys as column indexes\n",
    "da['newcolumn'] = 0\n",
    "da.columns = ['height','gender'] #Changes the column index\n",
    "da.index = ['A','B','C','D'] #Changes the row index\n",
    "sunspots = pd.read_csv(filepath, header = None, names = colnames, na_values = '-1')\n",
    "pd.merge(left=state_populations, right = state_codes,on=None,left_on='state',right_on='name')\n"
   ]
  },
  {
   "cell_type": "markdown",
   "metadata": {
    "collapsed": true
   },
   "source": [
    "# Statistical Thinking in Python (Part 1)"
   ]
  },
  {
   "cell_type": "code",
   "execution_count": null,
   "metadata": {
    "collapsed": true
   },
   "outputs": [],
   "source": [
    "import pandas as pd\n",
    "df = pd.read_csv('file.csv')\n",
    "import matplotlib.pyplot as plt\n",
    "plt.hist(df['name'],bins=10)\n",
    "plt.xlabel('xlabel')\n",
    "plt.ylabel('ylabel')\n",
    "plt.show()\n",
    "\n",
    "import seaborn as sns\n",
    "sns.set() #Results in nicely formatted plots. Import matplotlib.pyplot and seaborn for this\n",
    "plt.hist(df['name'],bins=10)\n",
    "plt.xlabel('xlabel')\n",
    "plt.ylabel('ylabel')\n",
    "plt.show()\n",
    "\n",
    "sns.swarmplot(x='state',y='dem_share',data=df_swing)\n",
    "plt.xlabel('xlabel')\n",
    "plt.ylabel('ylabel')\n",
    "plt.show()\n",
    "\n",
    "import numpy as np\n",
    "x = np.sort(df_swing['dem_share'])\n",
    "y = np.arange(1,len(x)+1)/len(x) #arange function arange[start_value,stop_value,gap]\n",
    "plt.plot(x,y,marker='.',linestyle='none') #linestyle = 'none makes dotted line graph\n",
    "plt.margins(0.02) #Ensures a bufffer of 2% is kept at ends\n",
    "\n",
    "_ = sns.boxplot(x='east_west',y='dem_share',data=df_all_states) \n",
    "#Creates a boxplot with x being divided on based of categorical data of east_west\n",
    "\n",
    "print(np.percentile(petal,percentiles)) #THis prints the 'percentiles' in the array petal\n",
    "plt.plot(ptiles_vers, percentiles/100, marker='D', color='red',linestyle='none')  #Overlays percentiles as red markers\n",
    "print(variance_explicit,variance_np) #Prints them adjacently\n",
    "\n",
    "random = np.random.random(size = 4) #Prints 4 numbers between 0 and 1 (Uniform random distrubution)\n",
    "sample = np.random.binomial(60,0.1,size = 50) #60:n 0.2:p\n",
    "sample = np.random.poisson(6,size = 10000)\n",
    "sample = np.random.normal(mu,sigma,size = 10000)\n",
    "sample = np.random.exponential(mu,size = 10000)\n"
   ]
  },
  {
   "cell_type": "markdown",
   "metadata": {},
   "source": [
    "# Statistical Thinking in Python (Part 2)"
   ]
  },
  {
   "cell_type": "code",
   "execution_count": null,
   "metadata": {
    "collapsed": true
   },
   "outputs": [],
   "source": [
    "plt.hist(inter_nohitter_time,bins = 50, normed = True, histtype = 'step') \n",
    "#step makes the histogram in a step function\n",
    "#normed = True: This normalizes the data\n",
    "slope, intercept = np.polyfit(total_votes,dem_share,1) #np.polyfit(x,y,degree_of_the_polynomial)\n",
    "a = np.linspace(0,0.1,200)#np.linspace(start,end,number_of_points)\n",
    "\n",
    "a = np.empty(1000) #Creates an empty array of 1000 size\n",
    "conf_int = np.percentile(data,[2.5,50,74]) #Value for 2.5,50 and 74th confidence is returned\n",
    "bs_sample = np.random.choice(rainfall, size=len(rainfall)) \n",
    "#Bootstrapping is basically resampling the data for statistical inference"
   ]
  },
  {
   "cell_type": "code",
   "execution_count": 4,
   "metadata": {
    "collapsed": true
   },
   "outputs": [],
   "source": [
    "import numpy as np\n",
    "?np.polyfit"
   ]
  },
  {
   "cell_type": "code",
   "execution_count": null,
   "metadata": {
    "collapsed": true
   },
   "outputs": [],
   "source": []
  },
  {
   "cell_type": "markdown",
   "metadata": {
    "collapsed": true
   },
   "source": [
    "# Deep learning in Python"
   ]
  },
  {
   "cell_type": "code",
   "execution_count": null,
   "metadata": {
    "collapsed": true
   },
   "outputs": [],
   "source": [
    "#Neural Networks take in account for interactions between variables\n"
   ]
  },
  {
   "cell_type": "code",
   "execution_count": null,
   "metadata": {
    "collapsed": true
   },
   "outputs": [],
   "source": []
  },
  {
   "cell_type": "code",
   "execution_count": null,
   "metadata": {
    "collapsed": true
   },
   "outputs": [],
   "source": []
  },
  {
   "cell_type": "code",
   "execution_count": null,
   "metadata": {
    "collapsed": true
   },
   "outputs": [],
   "source": []
  },
  {
   "cell_type": "code",
   "execution_count": null,
   "metadata": {
    "collapsed": true
   },
   "outputs": [],
   "source": []
  },
  {
   "cell_type": "markdown",
   "metadata": {
    "collapsed": true
   },
   "source": [
    "# Network Analysis in Python"
   ]
  },
  {
   "cell_type": "code",
   "execution_count": 16,
   "metadata": {},
   "outputs": [
    {
     "name": "stdout",
     "output_type": "stream",
     "text": [
      "[1, 2, 3]\n",
      "[(1, 2)]\n",
      "[(1, {'label': 'blue'}), (2, {}), (3, {})]\n"
     ]
    },
    {
     "data": {
      "image/png": "[encoded data removed]",
      "text/plain": [
       "<matplotlib.figure.Figure at 0xbaa2748>"
      ]
     },
     "metadata": {},
     "output_type": "display_data"
    }
   ],
   "source": [
    "# Networks are categorized in two set of items - Nodes and Edges\n",
    "# This network is called a graph\n",
    "import networkx as nx\n",
    "%matplotlib inline\n",
    "G = nx.Graph() #We can initialize an empty graph\n",
    "G.add_nodes_from([1,2,3]) #Nodes (1,2,3) are added in the graph as nodes\n",
    "print(G.nodes()) #Allows us to see the nodes in the graph\n",
    "G.add_edge(1,2) #Adds an edge between the node 1 and 2\n",
    "print(G.edges()) #Returns the tuple which shows nodes on the edge\n",
    "G.node[1]['label'] = 'blue' #Label (key) and blue (value) have been defined for node 1\n",
    "print(G.nodes(data=True)) #Each node has a dictionary with a key and value\n",
    "#1st element is node and 2nd element is dictionary with keys and values\n",
    "nx.draw(G)\n",
    "import matplotlib.pyplot as plt\n",
    "plt.show()"
   ]
  },
  {
   "cell_type": "code",
   "execution_count": null,
   "metadata": {
    "collapsed": true
   },
   "outputs": [],
   "source": []
  }
 ],
 "metadata": {
  "kernelspec": {
   "display_name": "Python 3",
   "language": "python",
   "name": "python3"
  },
  "language_info": {
   "codemirror_mode": {
    "name": "ipython",
    "version": 3
   },
   "file_extension": ".py",
   "mimetype": "text/x-python",
   "name": "python",
   "nbconvert_exporter": "python",
   "pygments_lexer": "ipython3",
   "version": "3.6.3"
  }
 },
 "nbformat": 4,
 "nbformat_minor": 2
}
